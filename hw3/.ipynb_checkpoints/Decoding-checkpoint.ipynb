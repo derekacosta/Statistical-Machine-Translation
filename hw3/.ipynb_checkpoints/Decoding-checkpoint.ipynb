{
 "cells": [
  {
   "cell_type": "markdown",
   "metadata": {
    "collapsed": true
   },
   "source": [
    "## Derek Acosta \n",
    "\n",
    "# Decoding"
   ]
  },
  {
   "cell_type": "markdown",
   "metadata": {},
   "source": [
    "## Question 1 [20 points]: Experiment with different combinations of values for the stack size parameter -s and the maximum number of translations -k, until you can no longer obtain any improvements. \n",
    "### How do changes in these parameters affect the resulting log-probabilities?     \n",
    "### How do they affect speed? \n",
    "### How do they affect the translations?"
   ]
  },
  {
   "cell_type": "code",
   "execution_count": 3,
   "metadata": {
    "collapsed": false
   },
   "outputs": [
    {
     "data": {
      "text/html": [
       "<table>\n",
       "<tbody>\n",
       "<tr><td>Decoder              </td><td>Stack Size</td><td>Translations</td><td>Log-prob</td><td>Speed</td></tr>\n",
       "<tr><td>default stack decoder</td><td>1         </td><td>Translations</td><td>Log-prob</td><td>Speed</td></tr>\n",
       "<tr><td>default stack decoder</td><td>10000     </td><td>Translations</td><td>Log-prob</td><td>Speed</td></tr>\n",
       "</tbody>\n",
       "</table>"
      ],
      "text/plain": [
       "<IPython.core.display.HTML object>"
      ]
     },
     "metadata": {},
     "output_type": "display_data"
    }
   ],
   "source": [
    "from IPython.display import HTML, display\n",
    "import tabulate\n",
    "table = [[\"Decoder\",\"Stack Size\",\"Translations\", \"Total corpus log probability (LM+TM)\", \"Time\"],\n",
    "         [\"default stack decoder\",\"1\",\"10\", \"-1375.922818\", \"0m2.237s\"],\n",
    "         [\"default stack decoder\",\"100\",\"10\", \"Log-prob\", \"Speed\"],\n",
    "        ]\n",
    "display(HTML(tabulate.tabulate(table, tablefmt='html')))"
   ]
  },
  {
   "cell_type": "code",
   "execution_count": 21,
   "metadata": {
    "collapsed": false
   },
   "outputs": [
    {
     "data": {
      "text/latex": [
       "\\begin{table}\n",
       "\\center\n",
       "\\begin{tabular}{crrrr}\n",
       "& & \\multicolumn{3}{c}{\\textbf{Translations per phrase}} \\\\\n",
       "& & \\textbf{1} & \\textbf{10} & \\textbf{100} \\\\\n",
       "\\hline\n",
       "\\multirow{5}{*}{\\begin{sideways}\\textbf{Stack size}\\end{sideways}}\n",
       "& \\textbf{1}   & --1700.33 & --1646.97 & --1646.91 \\\\\n",
       "& \\textbf{25}  & --1369.91 & --1310.66 & --1320.42 \\\\\n",
       "& \\textbf{50}  & --1369.91 & --1298.37 & --1302.51 \\\\\n",
       "& \\textbf{100} & --1369.91 & --1291.52 & --1296.66 \\\\\n",
       "& \\textbf{200} & --1369.91 & --1290.17 & \\textbf{--1289.35} \\\\\n",
       "\\end{tabular}\n",
       "\\caption{\\label{tab:scores}\n",
       "Corpus log-probability of decodings given various limits on the number\n",
       "of translations per phrase $k$ and the stack size $s$, with the\n",
       "reordering limit $r=3$.}\n",
       "\\end{table}"
      ],
      "text/plain": [
       "<IPython.core.display.Latex object>"
      ]
     },
     "metadata": {},
     "output_type": "display_data"
    }
   ],
   "source": [
    "from IPython.display import Latex\n",
    "Latex(\"\"\"\\begin{table}\n",
    "\\center\n",
    "\\begin{tabular}{crrrr}\n",
    "& & \\multicolumn{3}{c}{\\textbf{Translations per phrase}} \\\\\n",
    "& & \\textbf{1} & \\textbf{10} & \\textbf{100} \\\\\n",
    "\\hline\n",
    "\\multirow{5}{*}{\\begin{sideways}\\textbf{Stack size}\\end{sideways}}\n",
    "& \\textbf{1}   & --1700.33 & --1646.97 & --1646.91 \\\\\n",
    "& \\textbf{25}  & --1369.91 & --1310.66 & --1320.42 \\\\\n",
    "& \\textbf{50}  & --1369.91 & --1298.37 & --1302.51 \\\\\n",
    "& \\textbf{100} & --1369.91 & --1291.52 & --1296.66 \\\\\n",
    "& \\textbf{200} & --1369.91 & --1290.17 & \\textbf{--1289.35} \\\\\n",
    "\\end{tabular}\n",
    "\\caption{\\label{tab:scores}\n",
    "Corpus log-probability of decodings given various limits on the number\n",
    "of translations per phrase $k$ and the stack size $s$, with the\n",
    "reordering limit $r=3$.}\n",
    "\\end{table}\"\"\")"
   ]
  },
  {
   "cell_type": "code",
   "execution_count": null,
   "metadata": {
    "collapsed": true
   },
   "outputs": [],
   "source": []
  },
  {
   "cell_type": "code",
   "execution_count": null,
   "metadata": {
    "collapsed": true
   },
   "outputs": [],
   "source": []
  }
 ],
 "metadata": {
  "kernelspec": {
   "display_name": "Python 2",
   "language": "python",
   "name": "python2"
  },
  "language_info": {
   "codemirror_mode": {
    "name": "ipython",
    "version": 2
   },
   "file_extension": ".py",
   "mimetype": "text/x-python",
   "name": "python",
   "nbconvert_exporter": "python",
   "pygments_lexer": "ipython2",
   "version": "2.7.13"
  }
 },
 "nbformat": 4,
 "nbformat_minor": 2
}
